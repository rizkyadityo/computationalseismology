{
 "cells": [
  {
   "cell_type": "markdown",
   "metadata": {},
   "source": [
    "<img align=\"right\" width=\"100\" height=\"100\" src=\"https://jatinangor.itb.ac.id/wp-content/uploads/sites/17/2012/12/Logo-ITB-polos20-1.jpg\">\n",
    "\n",
    "## Seismologi Komputasi - Tugas 1\n",
    "*Farhan Hamid Lubis - 22319310*<br>\n",
    "*Rizky Adityo Prastama - 22319311*\n",
    "***\n",
    "#### Pemodelan Raytracing - 1D Homogeneous Layered Earth Model"
   ]
  },
  {
   "cell_type": "code",
   "execution_count": 1,
   "metadata": {},
   "outputs": [],
   "source": [
    "import numpy as np\n",
    "import matplotlib.pyplot as plt\n",
    "np.set_printoptions(suppress=True)\n",
    "%matplotlib inline"
   ]
  },
  {
   "cell_type": "markdown",
   "metadata": {},
   "source": [
    "#### Step 1 : Input Parameter\n",
    "\n",
    "Model yang dibuat adalah lapisan bumi homogen secara lateral dengan nilai velocity dan ketebalan masing-masing. Jumlah ray yang digunakan adalah 5. Sifat fisis untuk kasus model bumi berlapis homogen pada program ini disimpan dalam variabel sebagai berikut:\n",
    "\n",
    "    * rays : integer\n",
    "        Jumlah ray seismik\n",
    "    * velo : 1D-array\n",
    "        Nilai cepat rambat gelombang pada tiap lapisan\n",
    "    * dz : 1D-array\n",
    "        Ketebalan masing-masing lapisan\n",
    "    * layers : integer\n",
    "        Jumlah lapisan "
   ]
  },
  {
   "cell_type": "code",
   "execution_count": 2,
   "metadata": {},
   "outputs": [],
   "source": [
    "rays    = 5\n",
    "velo    = np.array([2300, 2250, 2200, 2150, 2100, 2050, 2000, 1950])\n",
    "dz      = np.array([100, 100, 100, 100, 100, 100, 100, 100])\n",
    "layers  = len(velo)"
   ]
  },
  {
   "cell_type": "markdown",
   "metadata": {},
   "source": [
    "#### Step 2 : Pembentukan Sudut <i>Takeoff</i>\n",
    "\n",
    "Pada tahap ini dilakukan looping untuk pembentukan sudut takeoff dari setiap ray. Dalam kasus ini penulis membuat masing-masing ray memiliki selisih 10 derajat. Variasi sudut <i>takeoff</i> disimpan dalam variabel berikut:\n",
    "    \n",
    "    * theta : 1D-array\n",
    "        Variasi nilai sudut takeoff\n",
    "   "
   ]
  },
  {
   "cell_type": "code",
   "execution_count": 3,
   "metadata": {},
   "outputs": [
    {
     "name": "stdout",
     "output_type": "stream",
     "text": [
      "theta :  [[10. 20. 30. 40. 50.]]\n"
     ]
    }
   ],
   "source": [
    "theta = np.empty(shape = [0, rays])\n",
    "for i in range(1, rays+1):\n",
    "    t = i * 10 \n",
    "    theta = np.array([np.append(theta, t)])\n",
    "print(\"theta : \",theta)"
   ]
  },
  {
   "cell_type": "markdown",
   "metadata": {},
   "source": [
    "#### Step 3 : Perhitungan Ray Parameter\n",
    "\n",
    "Ketika bekerja pada bidang x dan z, maka komponen vektor slowness arah y ($p_{y}$) bernilai 0 dan menyisakan komponen x ($p_{x}$) dan z ($p_{z}$). Variasi velocity yang digunakan hanya ada pada arah vertikal, sehingga:\n",
    "$$\n",
    "p_{x} = p = \\sin{i(z)}/V(z)\n",
    "$$\n",
    "dimana $i$ adalah sudut takeoff dan $V(z)$ adalah nilai kecepatan pada kedalaman $z$. Dengan menggunakan persamaan eikonal $p^{2} + p_{z}^{2} = V^{-2}$, maka $p_{z}$ dapat dihitung sebagai berikut: \n",
    "$$\n",
    "p_{z} = \\sqrt{V^{-2} - p^{2}}\n",
    "$$\n",
    "\n",
    "Hasil perhitungan pada tahap ini disimpan dalam variabel berikut:\n",
    "\n",
    "    * p : 1D-array\n",
    "        Nilai horizontal slowness (px) untuk masing-masing ray\n",
    "    * pz : 2D-array\n",
    "        Nilai vertical slonwess (pz) masing-masing ray untuk tiap lapisan"
   ]
  },
  {
   "cell_type": "code",
   "execution_count": 4,
   "metadata": {},
   "outputs": [
    {
     "name": "stdout",
     "output_type": "stream",
     "text": [
      "pz : \n",
      " [[0.00042818 0.00040856 0.00037653 0.00033306 0.00027947]\n",
      " [0.00043798 0.00041883 0.00038765 0.00034558 0.00029428]\n",
      " [0.00044823 0.00042953 0.00039919 0.00035848 0.00030932]\n",
      " [0.00045895 0.0004407  0.00041119 0.00037179 0.00032466]\n",
      " [0.00047017 0.00045238 0.00042367 0.00038555 0.00034033]\n",
      " [0.00048193 0.00046459 0.00043669 0.00039981 0.0003564 ]\n",
      " [0.00049427 0.00047738 0.00045027 0.0004146  0.00037292]\n",
      " [0.00050723 0.00049079 0.00046446 0.00042998 0.00038994]]\n"
     ]
    }
   ],
   "source": [
    "p = np.empty(shape = [0, rays])\n",
    "for i in range(rays):\n",
    "    x = np.sin(np.deg2rad(theta[0, i])) / velo[0] \n",
    "    p = np.array([np.append(p, x)])\n",
    "\n",
    "pz = np.empty(shape = [layers, rays])\n",
    "for j in range(rays):\n",
    "    for i in range(layers):\n",
    "        pz[i, j] = np.sqrt((1/(velo[i]))**(2) - (p[0, j])**2)\n",
    "print(\"pz : \\n\",pz)"
   ]
  },
  {
   "cell_type": "markdown",
   "metadata": {},
   "source": [
    "#### Step 4 : Perhitungan Lateral Displacement\n",
    "\n",
    "Perpindahan gelombang secara lateral pada setiap kedalaman dapat dihitung dengan menggunakan rasio antara $p$ dan $p_{z}$ yang sudah diketahui. Dengan demikian:\n",
    "$$\n",
    "\\frac{dx}{dz} = \\frac{p}{p_{z}} = \\frac{p}{\\sqrt{V^{-2} - p^{2}}}\\\\\n",
    "dx = \\frac{p}{\\sqrt{V^{-2} - p^{2}}} dz\n",
    "$$\n",
    "\n",
    "Hasil perhitungan pada tahap ini disimpan dalam variabel berikut:\n",
    "\n",
    "    * depth : 1D-array\n",
    "        Kedalaman masing-masing lapisan\n",
    "    * dx : 2D-array\n",
    "        Nilai lateral displacement masing-masing ray pada tiap lapisan\n",
    "    "
   ]
  },
  {
   "cell_type": "code",
   "execution_count": 5,
   "metadata": {},
   "outputs": [],
   "source": [
    "dx = np.empty(shape = [layers, rays])\n",
    "for j in range(rays):\n",
    "    for i in range(layers):\n",
    "        dx[i, j] = p[0, j] * dz[i]/ pz[i, j]\n",
    "\n",
    "a = np.array([np.zeros(rays)])\n",
    "dx = np.append(a, dx, axis = 0)\n",
    "\n",
    "for j in range(rays):\n",
    "    for i in range(1, layers + 1):\n",
    "        dx[i, j] = dx[i, j] + dx[i - 1, j]\n",
    "\n",
    "total_depth = np.sum(dz)\n",
    "dz = np.append(0, dz)\n",
    "depth = np.array([np.zeros(len(dz))])\n",
    "for i in range(1, len(dz)):\n",
    "    depth[0, 0] = total_depth\n",
    "    depth[0, i] = total_depth - (np.sum(dz[0:i + 1])) "
   ]
  },
  {
   "cell_type": "markdown",
   "metadata": {},
   "source": [
    "#### Step 5 : Visualisasi\n",
    "\n",
    "Berikut merupakan perintah untuk melakukan visualiasi ray tracing dengan sumber berada pada lapisan terakhir"
   ]
  },
  {
   "cell_type": "code",
   "execution_count": null,
   "metadata": {},
   "outputs": [],
   "source": [
    "fig, ax = plt.subplots()\n",
    "for i in range(rays):\n",
    "    ax.plot(dx[:, i], depth[0, :])\n",
    "ax.set_title(\"Ray Tracing\")\n",
    "for i in range(len(depth)):\n",
    "    plt.hlines(depth[i], 0, np.amax(dx), colors='r')\n",
    "plt.gca().invert_yaxis()"
   ]
  },
  {
   "cell_type": "code",
   "execution_count": 6,
   "metadata": {
    "scrolled": true
   },
   "outputs": [
    {
     "data": {
      "image/png": "[encoded data removed]",
      "text/plain": [
       "<Figure size 432x288 with 1 Axes>"
      ]
     },
     "metadata": {
      "needs_background": "light"
     },
     "output_type": "display_data"
    }
   ],
   "source": [
    "plt.show()"
   ]
  },
  {
   "cell_type": "markdown",
   "metadata": {},
   "source": [
    "***\n",
    "### References\n",
    "\n",
    "ČErvený V. (1989) Seismic ray theory. In: Geophysics. Encyclopedia of Earth Science. Springer, Boston, MA. https://doi.org/10.1007/0-387-30752-4_134"
   ]
  }
 ],
 "metadata": {
  "kernelspec": {
   "display_name": "Python 3",
   "language": "python",
   "name": "python3"
  },
  "language_info": {
   "codemirror_mode": {
    "name": "ipython",
    "version": 3
   },
   "file_extension": ".py",
   "mimetype": "text/x-python",
   "name": "python",
   "nbconvert_exporter": "python",
   "pygments_lexer": "ipython3",
   "version": "3.8.3"
  }
 },
 "nbformat": 4,
 "nbformat_minor": 4
}
