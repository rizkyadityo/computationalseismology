{
 "cells": [
  {
   "cell_type": "markdown",
   "metadata": {},
   "source": [
    "<img align=\"right\" width=\"100\" height=\"100\" src=\"https://jatinangor.itb.ac.id/wp-content/uploads/sites/17/2012/12/Logo-ITB-polos20-1.jpg\">\n",
    "\n",
    "## Seismologi Komputasi - Tugas 2\n",
    "*Farhan Hamid Lubis - 22319310*<br>\n",
    "*Rizky Adityo Prastama - 22319311*\n",
    "***\n",
    "#### Pemodelan Raytracing - 1D Gradient Velocity Layered Earth Model"
   ]
  },
  {
   "cell_type": "code",
   "execution_count": 1,
   "metadata": {},
   "outputs": [],
   "source": [
    "import sys\n",
    "import numpy as np\n",
    "import matplotlib.pyplot as plt\n",
    "np.set_printoptions(suppress=True)\n",
    "np.set_printoptions(threshold=sys.maxsize)\n",
    "%matplotlib inline"
   ]
  },
  {
   "cell_type": "markdown",
   "metadata": {},
   "source": [
    "#### Step 1 : Input Parameter\n",
    "\n",
    "Di bawah ini adalah parameter yang digunakan dalam ray tracing pada medium dengan gradien kecepatan konstan yang disimpan dalam variabel sebagai berikut:\n",
    "\n",
    "    * rays : integer\n",
    "        Jumlah ray seismik\n",
    "    * velo_i : integer\n",
    "        Nilai cepat rambat gelombang awal V0\n",
    "    * velo_f : integer\n",
    "        Nilai cepat rambat gelombang akhir V(z)\n",
    "    * layers : integer\n",
    "        Jumlah lapisan \n",
    "    * depth : 1D-array\n",
    "        Kedalaman masing-masing lapisan\n",
    "    * dz : 1D-array\n",
    "        Ketebalan masing-masing lapisan\n",
    "    "
   ]
  },
  {
   "cell_type": "code",
   "execution_count": 2,
   "metadata": {},
   "outputs": [],
   "source": [
    "rays   = 1\n",
    "inc_z  = 1\n",
    "z      = np.array([1000])\n",
    "velo_i = np.array([4000])\n",
    "velo_f = np.array([2000])\n",
    "layers = np.shape(z)[0]\n",
    "\n",
    "depth = np.zeros([1, layers+1])\n",
    "for i in range(1, layers + 1):\n",
    "    depth[0, 0] = 0\n",
    "    depth[0, i] = depth[0, i - 1] + z[i - 1]"
   ]
  },
  {
   "cell_type": "code",
   "execution_count": 3,
   "metadata": {},
   "outputs": [],
   "source": [
    "dz = np.zeros([1, 1])\n",
    "for i in range(layers):\n",
    "    a = np.transpose(np.amax(dz) + \n",
    "                     np.array([np.arange(1, z[i]+1, inc_z)]))\n",
    "    dz = np.append(dz, a, axis = 0)"
   ]
  },
  {
   "cell_type": "markdown",
   "metadata": {},
   "source": [
    "#### Step 2 : Perhitungan Gradient Velocity\n",
    "\n",
    "Besar kecepatan medium mengikuti persamaan:\n",
    "\n",
    "$$\n",
    "V(z) = V_{0} + bz\n",
    "$$\n",
    "\n",
    "Dengan menggunakan persamaan di atas, nilai gradien ($b$) adalah:\n",
    "\n",
    "$$\n",
    "b = \\frac{V(z) - V_{0}}{z}\n",
    "$$\n",
    "\n",
    "dimana $V(z)$ adalah kecepatan medium pada titik $z$, $V_{0}$ adalah kecepatan pada titik awal, dan $z$ adalah jarak atau ketebalan medium. Hasil perhitungan pada tahap ini disimpan pada variabel berikut:\n",
    "\n",
    "    * b : 1D-array\n",
    "        Nilai gradien velocity lapisan"
   ]
  },
  {
   "cell_type": "code",
   "execution_count": 4,
   "metadata": {},
   "outputs": [],
   "source": [
    "b = np.zeros([1, layers])\n",
    "for i in range(layers):\n",
    "    b[0, i] = (velo_f[i] - velo_i[i]) / z[i]"
   ]
  },
  {
   "cell_type": "markdown",
   "metadata": {},
   "source": [
    "#### Step 3 : Perhitungan Slowness Vector Components\n",
    "Perhitungan dilakukan pada bidang $(x, z)$ dengan $y = 0$ sehingga komponen vektor slowness arah y ($p_{y}$) bernilai 0. Medium memiliki velocity homogen secara lateral sehingga:\n",
    "\n",
    "$$\n",
    "p_{x} = p = \\sin{i(z)}/V(z)\n",
    "$$\n",
    "\n",
    "dimana $i$ adalah sudut takeoff dan $V(z)$ adalah nilai kecepatan pada kedalaman $z$. Dengan menggunakan persamaan eikonal $p_{x}^{2} + p_{z}^{2} = V^{-2}$, maka $p_{z_{0}}$ dapat dihitung sebagai berikut: \n",
    "\n",
    "$$\n",
    "p_{z_{0}} = \\sqrt{V_{0}^{-2} - p^{2}}\n",
    "$$\n",
    "\n",
    "Di bawah ini adalah looping untuk memperoleh sudut takeoff $(i)$, $p$, dan $p_{z}$ yang disimpan dalam variabel berikut:\n",
    "\n",
    "    * p : 1D-array\n",
    "        Nilai horizontal slowness (px) untuk masing-masing ray\n",
    "    * pz : 2D-array\n",
    "        Nilai vertical slonwess (pz) masing-masing ray dengan menggunakan V0 di titik awal"
   ]
  },
  {
   "cell_type": "code",
   "execution_count": 5,
   "metadata": {},
   "outputs": [],
   "source": [
    "# perhitungan nilai sudut takeoff\n",
    "theta = np.zeros([1, rays])\n",
    "diff = 10 # perbedaan sudut setiap gelombang\n",
    "for i in range(0, rays):\n",
    "    theta[0, i] = (1 + i) * diff"
   ]
  },
  {
   "cell_type": "code",
   "execution_count": 6,
   "metadata": {},
   "outputs": [],
   "source": [
    "p = np.zeros([1, rays])\n",
    "for i in range(rays):\n",
    "    p[0, i] = np.sin(np.deg2rad(theta[0, i])) / velo_i[0]\n",
    "\n",
    "pz = np.zeros([layers, rays])\n",
    "for j in range(rays):\n",
    "    for i in range(layers):\n",
    "        pz[i, j] = np.sqrt((1/(velo_i[i]))**(2) - (p[0, j])**2)"
   ]
  },
  {
   "cell_type": "markdown",
   "metadata": {},
   "source": [
    "#### Step 4 : Perhitungan Lateral Displacement\n",
    "Akibat kecepatan medium yang memiliki gradien, perambatan gelombang pada medium menjadi melingkar. Cerveny mendefinisikan perpindahan lateral gelombang pada arah $x$ sebagai fungsi kedalaman $z$ dan besar gradien $b$ sebagai berikut:\n",
    "\n",
    "$$\n",
    "\\left[x - x_{0} - \\frac{p_{z_{0}} V_{0}}{b p} \\right]^{2} + \\left[z - z_{0} - \\frac{V_{0}}{b} \\right]^{2} = \\frac{1}{p^{2} b^{2}}\n",
    "$$\n",
    "\n",
    "Dengan menyusun ulang persamaan di atas, diperoleh:\n",
    "\n",
    "$$\n",
    "x = \\sqrt{\\frac{1}{p^{2} b^{2}} - \\left[z - z_{0} - \\frac{V_{0}}{b} \\right]^{2}} + x_{0} + \\frac{p_{z_{0}} V_{0}}{b p}\n",
    "$$\n",
    "\n",
    "Hasil perhitungan pada tahap ini disimpan dalam variabel berikut:\n",
    "\n",
    "    * x : 1D-array\n",
    "        Nilai lateral displacement di setiap kedalaman (z) "
   ]
  },
  {
   "cell_type": "code",
   "execution_count": 7,
   "metadata": {},
   "outputs": [],
   "source": [
    "x = np.zeros([np.shape(dz)[0], rays])\n",
    "\n",
    "for j in range(rays):\n",
    "    for k in range(layers):\n",
    "        for i in range(int(depth[0, k]) + 1, int(depth[0, k + 1]) + 1):\n",
    "            var1 = 1 / ((p[0, j]**2) * (b[0, k])**2)\n",
    "            var2 = (dz[i, 0] + (velo_i[k] / b[0, k]))**2\n",
    "            var3 = (pz[k, j] * velo_i[k]) / (b[0, k] * p[0, j])\n",
    "            x[i, j] = np.sqrt(var1 - var2) + x[int(depth[0, k]), j] + var3\n",
    "            "
   ]
  },
  {
   "cell_type": "markdown",
   "metadata": {},
   "source": [
    "#### Step 5 : Visualisasi\n",
    "\n",
    "Berikut merupakan perintah untuk melakukan visualiasi ray tracing dengan sumber berada pada lapisan (z)"
   ]
  },
  {
   "cell_type": "code",
   "execution_count": 8,
   "metadata": {
    "scrolled": false
   },
   "outputs": [
    {
     "data": {
      "image/png": "[encoded data removed]",
      "text/plain": [
       "<Figure size 360x540 with 1 Axes>"
      ]
     },
     "metadata": {
      "needs_background": "light"
     },
     "output_type": "display_data"
    }
   ],
   "source": [
    "fig, ax = plt.subplots()\n",
    "for i in range(rays):\n",
    "    ax.plot(x[:, i], np.flip(dz[:, 0], 0))\n",
    "ax.set_title(\"Ray Tracing\", fontdict = {'fontsize': 16, 'fontweight': 'bold'})\n",
    "ax.set_xlabel(\"Offset (m)\", fontdict = {'fontsize': 12, 'fontweight': 'medium'})\n",
    "ax.set_ylabel(\"Depth (m)\", fontdict = {'fontsize': 12, 'fontweight': 'medium'})\n",
    "plt.gca().invert_yaxis()\n",
    "for i in range(len(depth)):\n",
    "    plt.hlines(depth[i], 0, np.amax(x), colors='r')\n",
    "fig.set_size_inches(5, 7.5)"
   ]
  },
  {
   "cell_type": "markdown",
   "metadata": {},
   "source": [
    "***\n",
    "### References\n",
    "\n",
    "ČErvený V. (1989) Seismic ray theory. In: Geophysics. Encyclopedia of Earth Science. Springer, Boston, MA. https://doi.org/10.1007/0-387-30752-4_134"
   ]
  }
 ],
 "metadata": {
  "kernelspec": {
   "display_name": "Python 3",
   "language": "python",
   "name": "python3"
  },
  "language_info": {
   "codemirror_mode": {
    "name": "ipython",
    "version": 3
   },
   "file_extension": ".py",
   "mimetype": "text/x-python",
   "name": "python",
   "nbconvert_exporter": "python",
   "pygments_lexer": "ipython3",
   "version": "3.8.3"
  }
 },
 "nbformat": 4,
 "nbformat_minor": 4
}
