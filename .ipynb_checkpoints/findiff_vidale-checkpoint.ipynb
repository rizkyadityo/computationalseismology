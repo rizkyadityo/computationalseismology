{
 "cells": [
  {
   "cell_type": "code",
   "execution_count": null,
   "metadata": {},
   "outputs": [],
   "source": [
    "import numpy as np\n",
    "import matplotlib.pyplot as plt"
   ]
  },
  {
   "cell_type": "markdown",
   "metadata": {},
   "source": [
    "# Pembuatan Grid"
   ]
  },
  {
   "cell_type": "markdown",
   "metadata": {},
   "source": [
    "## Dimensi Grid"
   ]
  },
  {
   "cell_type": "code",
   "execution_count": null,
   "metadata": {},
   "outputs": [],
   "source": [
    "grid_x = 3\n",
    "grid_z = 3\n",
    "\n",
    "# source location in grid\n",
    "source_x = 2 # 1, 2, 3, ..., grid_x\n",
    "source_z = 2 # 1, 2, 3, ..., grid_z\n",
    "\n",
    "# converting to python integer convention\n",
    "source_x = source_x - 1\n",
    "source_z = source_z - 1\n",
    "\n",
    "# grid spacing\n",
    "h = 5"
   ]
  },
  {
   "cell_type": "markdown",
   "metadata": {},
   "source": [
    "## Input Parameter"
   ]
  },
  {
   "cell_type": "code",
   "execution_count": null,
   "metadata": {},
   "outputs": [],
   "source": [
    "grid = np.zeros([grid_z, grid_x])\n",
    "velo = grid + 2000\n",
    "slowness = 1 / velo\n",
    "\n",
    "t = grid\n",
    "t[source_z, source_x] = 0"
   ]
  },
  {
   "cell_type": "markdown",
   "metadata": {},
   "source": [
    "## Perhitungan t Sumbu Utama"
   ]
  },
  {
   "cell_type": "markdown",
   "metadata": {},
   "source": [
    "Dari Vidale, waktu perambatan pada titik-titik yang sejajar secara lateral dan vertikal dari sumber dapat dihitung menggunakan persamaan berikut:\n",
    "$$\n",
    "t_{i} = \\frac{h}{2} \\left(s_{i} + s_{A}\\right)\n",
    "$$\n",
    "dimana $t_{i}$ ada waktu pada titik $i$, $h$ adalah ukuran _spacing_ grid, $s_{i}$ adalah nilai _slowness_ pada titik $i$, dan $s_{A}$ adalah nilai _slowness_ pada titik sumber. Titik $A$ tidak selalu menjadi sumber ledakan, namun dapat menjadi titik yang berada tepat di sebelah titik $i$ yang sudah memiliki nilai $t$."
   ]
  },
  {
   "cell_type": "code",
   "execution_count": null,
   "metadata": {},
   "outputs": [],
   "source": [
    "# lateral propagation from source\n",
    "# left direction\n",
    "for i in reversed(range(0, source_x)):\n",
    "    t[source_z, i] = t[source_z, i + 1] + ((h / 2) * (slowness[source_z, i] + slowness[source_z, i + 1]))\n",
    "# right direction\n",
    "for i in range(source_x + 1, grid_x):\n",
    "    t[source_z, i] = t[source_z, i - 1] + ((h / 2) * (slowness[source_z, i] + slowness[source_z, i - 1]))\n",
    "\n",
    "# vertical propagation from source\n",
    "# upward direction\n",
    "for i in reversed(range(0, source_z)):\n",
    "    t[i, source_x] = t[i + 1, source_x] + ((h / 2) * (slowness[i, source_x] + slowness[i + 1, source_x]))\n",
    "# downward direction\n",
    "for i in range(source_z + 1, grid_z):\n",
    "    t[i, source_x] = t[i - 1, source_x] + ((h / 2) * (slowness[i, source_x] + slowness[i - 1, source_z]))\n",
    "    \n",
    "# print(t)"
   ]
  },
  {
   "cell_type": "markdown",
   "metadata": {},
   "source": [
    "## Perhitungan t Diagonal"
   ]
  },
  {
   "cell_type": "markdown",
   "metadata": {},
   "source": [
    "### Pendekatan 1"
   ]
  },
  {
   "cell_type": "markdown",
   "metadata": {},
   "source": [
    "Pendekatan 1 memiliki tingkat akurasi ekstrapolasi nilai $t$ yang baik ketika bentuk muka gelombang dianggap rata atau _flat_. Perambatan gelombang dua dimensi mengikuti persamaan eikonal _ray tracing_ berikut:\n",
    "$$\n",
    "\\left(\\frac{\\partial t}{\\partial x}\\right)^{2} + \\left(\\frac{\\partial t}{\\partial z}\\right)^{2} = s\\left(x, z\\right)^{2}\n",
    "$$\n",
    "Dalam _finite differences_, suku diferensial dapat didefinisikan sebagai berikut:\n",
    "$$\n",
    "\\frac{\\partial t}{\\partial x} = \\frac{1}{2h} \\left(t_{0} + t_{2} - t_{1} - t_{3}\\right) \\\\\n",
    "\\frac{\\partial t}{\\partial z} = \\frac{1}{2h} \\left(t_{0} + t_{1} - t_{2} - t_{3}\\right)\n",
    "$$\n",
    "Sehingga:\n",
    "$$\n",
    "t_{3} = t_{0} + \\sqrt{2(hs)^{2} - (t_{2} - t{1})^2}\n",
    "$$\n",
    "dimana $t_{3}$ adalah waktu pada titik yang diapit oleh titik $1$ dan $2$ serta berseberangan dengan titik $0$ secara diagonal."
   ]
  },
  {
   "cell_type": "code",
   "execution_count": null,
   "metadata": {},
   "outputs": [],
   "source": []
  }
 ],
 "metadata": {
  "kernelspec": {
   "display_name": "Python 3",
   "language": "python",
   "name": "python3"
  },
  "language_info": {
   "codemirror_mode": {
    "name": "ipython",
    "version": 3
   },
   "file_extension": ".py",
   "mimetype": "text/x-python",
   "name": "python",
   "nbconvert_exporter": "python",
   "pygments_lexer": "ipython3",
   "version": "3.8.3"
  }
 },
 "nbformat": 4,
 "nbformat_minor": 4
}
