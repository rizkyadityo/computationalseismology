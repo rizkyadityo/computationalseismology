{
 "cells": [
  {
   "cell_type": "markdown",
   "metadata": {},
   "source": [
    "<img align=\"right\" width=\"100\" height=\"100\" src=\"https://jatinangor.itb.ac.id/wp-content/uploads/sites/17/2012/12/Logo-ITB-polos20-1.jpg\">\n",
    "\n",
    "# Seismologi Komputasi - Tugas 3\n",
    "*Farhan Hamid Lubis - 22319310*<br>\n",
    "*Rizky Adityo Prastama - 22319311*\n",
    "***\n",
    "## Estimasi Traveltime dengan Finite Difference (Vidale, 1988)\n",
    "***"
   ]
  },
  {
   "cell_type": "markdown",
   "metadata": {},
   "source": [
    "### Import Library"
   ]
  },
  {
   "cell_type": "code",
   "execution_count": 7,
   "metadata": {
    "scrolled": true
   },
   "outputs": [],
   "source": [
    "import numpy as np\n",
    "import matplotlib.pyplot as plt\n",
    "import sys\n",
    "np.set_printoptions(precision = 2)"
   ]
  },
  {
   "cell_type": "markdown",
   "metadata": {},
   "source": [
    "***"
   ]
  },
  {
   "cell_type": "markdown",
   "metadata": {},
   "source": [
    "### Step 1: Input Parameter dan Pembuatan Matriks Offset `x` & Kedalaman `z`"
   ]
  },
  {
   "cell_type": "markdown",
   "metadata": {},
   "source": [
    "Tahap pertama yang dilakukan adalah memasukkan parameter dari model lapisan yang akan digunakan. Pada tahap ini, input yang diperlukan adalah:\n",
    "1. Kecepatan lapisan (`v`) dalam km/s.\n",
    "2. Ketebalan lapisan (`v_dz`) dalam km.\n",
    "3. Panjang _cross-section_ (`distance_x`) dalam km.\n",
    "4. Ukuran grid individu (`h`) dalam km.\n",
    "5. Lokasi sumber (`source`). Nilai 1 untuk sumber pada pojok kiri atas *cross-section*, 2 untuk sumber di tengah atas *cross-section*, dan 3 untuk sumber di kanan atas *cross-section*.\n",
    "\n",
    "Berdasarkan input yang diberikan, program akan secara otomatis membuat matriks offset `x` dan matriks kedalaman `z`. Ukuran matriks `x` dan `z` ditentukan oleh total ketebalan lapisan, panjang *cross-section*, serta ukuran grid individu. Semakin besar ukuran grid individu, semakin kecil ukuran matriks `x` dan `z` begitu pula sebaliknya."
   ]
  },
  {
   "cell_type": "code",
   "execution_count": 8,
   "metadata": {
    "scrolled": true
   },
   "outputs": [],
   "source": [
    "v = np.array([3.0, 5.0]) # kecepatan lapisan (km/s)\n",
    "v_dz = np.array([30, 20]) # ketebalan lapisan (km)\n",
    "layers = len(v)\n",
    "\n",
    "distance_x = 100 # offset cross-section (km)\n",
    "distance_z = np.sum(v_dz)\n",
    "h = 0.1 # grid spacing\n",
    "\n",
    "grid_x = int(np.round((distance_x / h) + 1))\n",
    "grid_z = int(np.round((distance_z / h) + 1))\n",
    "grid = np.zeros([grid_z, grid_x])\n",
    "\n",
    "# lokasi sumber dalam grid\n",
    "source = 1 \n",
    "### 1 = pojok kiri atas cross-section\n",
    "### 2 = tengah atas cross-section\n",
    "### 3 = kanan atas cross-section\n",
    "\n",
    "if source == 1:\n",
    "    source_x = 0\n",
    "    source_z = 0\n",
    "elif source == 2:\n",
    "    source_x = np.round(grid_x / 2)\n",
    "    source_z = 0\n",
    "elif source == 3:\n",
    "    source_x = np.round(grid_x - 1)\n",
    "    source_z = 0\n",
    "else:\n",
    "    print(\"Wrong source location index! Exiting program...\")\n",
    "    exit()\n",
    "\n",
    "# matriks offset dan kedalaman berdasarkan input yang diberikan\n",
    "x = np.arange(0, np.round(distance_x + h, decimals = 2), h)\n",
    "z = np.arange(0, np.round(distance_z + h, decimals = 2), h)\n",
    "x, z = np.meshgrid(x, z)"
   ]
  },
  {
   "cell_type": "markdown",
   "metadata": {},
   "source": [
    "***"
   ]
  },
  {
   "cell_type": "markdown",
   "metadata": {},
   "source": [
    "### Step 2: Membuat Matriks *Slowness*"
   ]
  },
  {
   "cell_type": "markdown",
   "metadata": {},
   "source": [
    "Ukuran matriks `slowness` yang dibuat akan mengikuti ukuran dari matriks offset `x` dan matriks kedalaman `z`. Matriks *slowness* akan digunakan sebagai informasi kelambanan medium di setiap titik grid."
   ]
  },
  {
   "cell_type": "code",
   "execution_count": 9,
   "metadata": {
    "scrolled": true
   },
   "outputs": [],
   "source": [
    "v_z = np.zeros([1, layers + 1])\n",
    "for i in range(1, layers + 1):\n",
    "    v_z[0, i] = v_z[0, i - 1] + v_dz[i - 1]\n",
    "\n",
    "v_grid = v_z / h\n",
    "\n",
    "velo = np.zeros([grid_z, grid_x])\n",
    "\n",
    "for j in range(np.shape(velo)[1]):\n",
    "    for k in range(layers):\n",
    "        for i in range(int(np.round(v_grid[0, k])), int(np.round(v_grid[0, k + 1]))):\n",
    "            velo[i, j] = v[k]\n",
    "            velo[i + 1, j] = v[k]\n",
    "\n",
    "slowness = 1 / velo"
   ]
  },
  {
   "cell_type": "markdown",
   "metadata": {},
   "source": [
    "***"
   ]
  },
  {
   "cell_type": "markdown",
   "metadata": {},
   "source": [
    "### Step 3: Estimasi *Traveltime*"
   ]
  },
  {
   "cell_type": "markdown",
   "metadata": {},
   "source": [
    "**gambar**"
   ]
  },
  {
   "cell_type": "markdown",
   "metadata": {},
   "source": [
    "**Arah Vertikal dan Lateral**\n",
    "\n",
    "Dari Vidale, waktu perambatan pada titik-titik yang sejajar secara lateral dan vertikal dari sumber dapat dihitung menggunakan persamaan berikut:\n",
    "$$\n",
    "t_{i} = \\frac{h}{2} \\left(s_{i} + s_{A}\\right)\n",
    "$$\n",
    "dimana $t_{i}$ ada waktu pada titik $i$, $h$ adalah ukuran grid individu `h`, $s_{i}$ adalah nilai *slowness* pada titik $i$, dan $s_{A}$ adalah nilai *slowness* pada titik sumber. Titik $A$ tidak selalu menjadi sumber ledakan, namun dapat menjadi titik yang berada tepat di sebelah titik $i$ yang sudah memiliki nilai $t$."
   ]
  },
  {
   "cell_type": "code",
   "execution_count": 10,
   "metadata": {
    "scrolled": true
   },
   "outputs": [],
   "source": [
    "t = np.zeros([grid_z, grid_x])\n",
    "t[int(source_z), int(source_x)] = 0\n",
    "\n",
    "# Perambatan lateral dari sumber\n",
    "# Arah kiri\n",
    "for i in reversed(range(0, int(source_x))):\n",
    "    t[int(source_z), i] = t[int(source_z), i + 1] + ((h / 2) * (slowness[int(source_z), i] + slowness[int(source_z), i + 1]))\n",
    "# Arah kanan\n",
    "for i in range(int(source_x) + 1, grid_x):\n",
    "    t[int(source_z), i] = t[int(source_z), i - 1] + ((h / 2) * (slowness[int(source_z), i] + slowness[int(source_z), i - 1]))\n",
    "\n",
    "# Perambatan vertikal dari sumber\n",
    "# Arah atas\n",
    "for i in reversed(range(0, int(source_z))):\n",
    "    t[i, int(source_x)] = t[i + 1, int(source_x)] + ((h / 2) * (slowness[i, int(source_x)] + slowness[i + 1, int(source_x)]))\n",
    "# Arah bawah\n",
    "for i in range(int(source_z) + 1, grid_z):\n",
    "    t[i, int(source_x)] = t[i - 1, int(source_x)] + ((h / 2) * (slowness[i, int(source_x)] + slowness[i - 1, int(source_x)]))"
   ]
  },
  {
   "cell_type": "markdown",
   "metadata": {},
   "source": [
    "**Arah Diagonal**\n",
    "\n",
    "Perambatan gelombang dua dimensi mengikuti persamaan eikonal _ray tracing_ berikut:\n",
    "$$\n",
    "\\left(\\frac{\\partial t}{\\partial x}\\right)^{2} + \\left(\\frac{\\partial t}{\\partial z}\\right)^{2} = s\\left(x, z\\right)^{2}\n",
    "$$\n",
    "Dalam *finite difference*, suku diferensial dapat didefinisikan sebagai berikut:\n",
    "$$\n",
    "\\frac{\\partial t}{\\partial x} = \\frac{1}{2h} \\left(t_{0} + t_{2} - t_{1} - t_{3}\\right) \\\\\n",
    "\\frac{\\partial t}{\\partial z} = \\frac{1}{2h} \\left(t_{0} + t_{1} - t_{2} - t_{3}\\right)\n",
    "$$\n",
    "Sehingga:\n",
    "$$\n",
    "t_{3} = t_{0} + \\sqrt{2(hs)^{2} - (t_{2} - t_{1})^2}\n",
    "$$\n",
    "dimana $t_{3}$ adalah waktu pada titik yang diapit oleh titik $1$ dan $2$ serta berseberangan dengan titik $0$ secara diagonal."
   ]
  },
  {
   "cell_type": "code",
   "execution_count": 11,
   "metadata": {
    "scrolled": true
   },
   "outputs": [
    {
     "name": "stderr",
     "output_type": "stream",
     "text": [
      "<ipython-input-11-b195c7f7437d>:8: RuntimeWarning: invalid value encountered in sqrt\n",
      "  t[j, i] = t[j - 1, i - 1] + np.sqrt(2 * (h * slowness[j, i])**(2) - (t[j - 1, i] - t[j, i - 1])**(2))\n"
     ]
    }
   ],
   "source": [
    "# Arah kanan\n",
    "for i in range(int(source_x) + 1, grid_x):\n",
    "    # Bagian atas\n",
    "    for j in reversed(range(0, int(source_z))):\n",
    "        t[j, i] = t[j + 1, i - 1] + np.sqrt(2 * (h * slowness[j, i])**(2) - (t[j + 1, i] - t[j, i - 1])**(2))\n",
    "    # Bagian bawah\n",
    "    for j in range(int(source_z) + 1, grid_z):\n",
    "        t[j, i] = t[j - 1, i - 1] + np.sqrt(2 * (h * slowness[j, i])**(2) - (t[j - 1, i] - t[j, i - 1])**(2))\n",
    "\n",
    "# Arah kiri\n",
    "for i in reversed(range(0, int(source_x))):\n",
    "    # Bagian atas\n",
    "    for j in reversed(range(0, int(source_z))):\n",
    "        t[j, i] = t[j + 1, i + 1] + np.sqrt(2 * (h * slowness[j, i])**(2) - (t[j + 1, i] - t[j, i + 1])**(2))\n",
    "    # Bagian bawah\n",
    "    for j in range(int(source_z) + 1, grid_z):\n",
    "        t[j, i] = t[j - 1, i + 1] + np.sqrt(2 * (h * slowness[j, i])**(2) - (t[j - 1, i] - t[j, i + 1])**(2))"
   ]
  },
  {
   "cell_type": "markdown",
   "metadata": {},
   "source": [
    "***"
   ]
  },
  {
   "cell_type": "markdown",
   "metadata": {},
   "source": [
    "### Step 4: Plot Kontur *Traveltime*"
   ]
  },
  {
   "cell_type": "markdown",
   "metadata": {},
   "source": [
    "Tahap ini merupakan pembuatan kontur dengan informasi berikut:\n",
    "1. Matriks `x` sebagai informasi offset setiap grid\n",
    "2. Matriks `z` sebagai informasi kedalaman setiap grid\n",
    "3. Matriks `t` sebagai informasi *traveltime* setiap grid\n",
    "\n",
    "Informasi berikut dapat diatur untuk mengubah tampilan dari kontur yang diinginkan:\n",
    "1. `steps` untuk mengubah interval kontur\n",
    "2. `fgz_scale` untuk mengubah panjang sisi maksimal dari kontur yang dibuat (dalam inch)"
   ]
  },
  {
   "cell_type": "code",
   "execution_count": 13,
   "metadata": {},
   "outputs": [
    {
     "data": {
      "image/png": "[encoded data removed]",
      "text/plain": [
       "<Figure size 720x360.36 with 1 Axes>"
      ]
     },
     "metadata": {
      "needs_background": "light"
     },
     "output_type": "display_data"
    }
   ],
   "source": [
    "steps = 1 # interval kontur\n",
    "max_lvl = np.round(np.amax(t))\n",
    "lvl = np.arange(0, max_lvl + steps, steps)\n",
    "label_lvl = np.arange(0, max_lvl + steps, steps + 3)\n",
    "\n",
    "fig, ax = plt.subplots()\n",
    "cs = ax.contour(x, z, t, levels = lvl, colors = 'k')\n",
    "\n",
    "ax.set_title(\"Traveltime Estimation in Laterally Homogeneous Medium \\nusing Finite Differences\", pad = 20, fontdict = {'fontsize': 14, 'fontweight': 'bold'})\n",
    "ax.set_xlabel(\"Offset (km)\", fontdict = {'fontsize': 12, 'fontweight': 'medium'})\n",
    "ax.set_ylabel(\"Depth (km)\", fontdict = {'fontsize': 12, 'fontweight': 'medium'})\n",
    "\n",
    "ax.xaxis.tick_top()\n",
    "ax.xaxis.set_label_position('top') \n",
    "\n",
    "fgz_scale = 10 # panjang sisi maksimum dari kontur\n",
    "fgz_x = (grid_x / max(grid_x, grid_z)) * fgz_scale\n",
    "fgz_z = (grid_z / max(grid_x, grid_z)) * fgz_scale\n",
    "fig.set_size_inches(fgz_x, fgz_z)\n",
    "\n",
    "plt.gca().invert_yaxis()\n",
    "plt.hlines(v_dz[0], 0, distance_x, colors = 'k')\n",
    "\n",
    "ax.clabel(cs, levels = label_lvl, inline=True, fontsize = '10', inline_spacing=5, fmt='%1.1f s')\n",
    "\n",
    "plt.show()"
   ]
  }
 ],
 "metadata": {
  "kernelspec": {
   "display_name": "Python 3",
   "language": "python",
   "name": "python3"
  },
  "language_info": {
   "codemirror_mode": {
    "name": "ipython",
    "version": 3
   },
   "file_extension": ".py",
   "mimetype": "text/x-python",
   "name": "python",
   "nbconvert_exporter": "python",
   "pygments_lexer": "ipython3",
   "version": "3.8.3"
  }
 },
 "nbformat": 4,
 "nbformat_minor": 4
}
