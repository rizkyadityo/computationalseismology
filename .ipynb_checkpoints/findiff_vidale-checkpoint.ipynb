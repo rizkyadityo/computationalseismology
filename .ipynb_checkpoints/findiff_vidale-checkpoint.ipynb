{
 "cells": [
  {
   "cell_type": "markdown",
   "metadata": {},
   "source": [
    "<img align=\"right\" width=\"100\" height=\"100\" src=\"https://jatinangor.itb.ac.id/wp-content/uploads/sites/17/2012/12/Logo-ITB-polos20-1.jpg\">\n",
    "\n",
    "## Seismologi Komputasi - Tugas 2\n",
    "*Farhan Hamid Lubis - 22319310*<br>\n",
    "*Rizky Adityo Prastama - 22319311*\n",
    "***\n",
    "#### Pemodelan Raytracing - 1D Gradient Velocity Layered Earth Model"
   ]
  },
  {
   "cell_type": "code",
   "execution_count": null,
   "metadata": {},
   "outputs": [],
   "source": [
    "import numpy as np\n",
    "import matplotlib.pyplot as plt\n",
    "import sys\n",
    "np.set_printoptions(precision = 2)\n",
    "np.set_printoptions(suppress=True)\n",
    "np.set_printoptions(threshold=sys.maxsize)"
   ]
  },
  {
   "cell_type": "markdown",
   "metadata": {},
   "source": [
    "<hr style=\"height: 2px; color: gray; background-color: gray\">"
   ]
  },
  {
   "cell_type": "markdown",
   "metadata": {},
   "source": [
    "# Pembuatan Grid"
   ]
  },
  {
   "cell_type": "markdown",
   "metadata": {},
   "source": [
    "## Dimensi Grid"
   ]
  },
  {
   "cell_type": "code",
   "execution_count": null,
   "metadata": {},
   "outputs": [],
   "source": [
    "v = np.array([3.0, 3.0]) # km/s\n",
    "v_dz = np.array([10, 20]) # layer thickness in km\n",
    "layers = len(v) # number of layers\n",
    "\n",
    "distance_x = 40 # km\n",
    "distance_z = np.sum(v_dz)\n",
    "h = 0.1 # grid spacing\n",
    "\n",
    "grid_x = int(np.round((distance_x / h) + 1))\n",
    "grid_z = int(np.round((distance_z / h) + 1))\n",
    "grid = np.zeros([grid_z, grid_x])\n",
    "\n",
    "# source location in grid\n",
    "source = 6 # 1 = top left corner; 2 = top middle; 3 = top right corner\n",
    "if source == 1:\n",
    "    source_x = 0\n",
    "    source_z = 0\n",
    "elif source == 2:\n",
    "    source_x = np.round(grid_x / 2)\n",
    "    source_z = 0\n",
    "elif source == 3:\n",
    "    source_x = np.round(grid_x - 1)\n",
    "    source_z = 0\n",
    "else:\n",
    "    print(\"Wrong source location index! Exiting program...\")\n",
    "    exit()\n",
    "\n",
    "# cross-section coordinate matrix\n",
    "x = np.arange(0, np.round(distance_x + h, decimals = 2), h)\n",
    "z = np.arange(0, np.round(distance_z + h, decimals = 2), h)\n",
    "x, z = np.meshgrid(x, z)"
   ]
  },
  {
   "cell_type": "markdown",
   "metadata": {},
   "source": [
    "## Input Parameter Kecepatan"
   ]
  },
  {
   "cell_type": "code",
   "execution_count": null,
   "metadata": {},
   "outputs": [],
   "source": [
    "v_z = np.zeros([1, layers + 1])\n",
    "for i in range(1, layers + 1):\n",
    "    v_z[0, i] = v_z[0, i - 1] + v_dz[i - 1]\n",
    "\n",
    "v_grid = v_z / h\n",
    "\n",
    "velo = np.zeros([grid_z, grid_x])\n",
    "\n",
    "for j in range(np.shape(velo)[1]):\n",
    "    for k in range(layers):\n",
    "        for i in range(int(np.round(v_grid[0, k])), int(np.round(v_grid[0, k + 1]))):\n",
    "            velo[i, j] = v[k]\n",
    "            velo[i + 1, j] = v[k]\n",
    "\n",
    "slowness = 1 / velo"
   ]
  },
  {
   "cell_type": "markdown",
   "metadata": {},
   "source": [
    "<hr style=\"height: 2px; color: gray; background-color: gray\">"
   ]
  },
  {
   "cell_type": "markdown",
   "metadata": {},
   "source": [
    "# Perhitungan Waktu Tempuh ($t$)"
   ]
  },
  {
   "cell_type": "markdown",
   "metadata": {},
   "source": [
    "## Perhitungan $t$ Sumbu Utama"
   ]
  },
  {
   "cell_type": "markdown",
   "metadata": {},
   "source": [
    "Dari Vidale, waktu perambatan pada titik-titik yang sejajar secara lateral dan vertikal dari sumber dapat dihitung menggunakan persamaan berikut:\n",
    "$$\n",
    "t_{i} = \\frac{h}{2} \\left(s_{i} + s_{A}\\right)\n",
    "$$\n",
    "dimana $t_{i}$ ada waktu pada titik $i$, $h$ adalah ukuran _spacing_ grid, $s_{i}$ adalah nilai _slowness_ pada titik $i$, dan $s_{A}$ adalah nilai _slowness_ pada titik sumber. Titik $A$ tidak selalu menjadi sumber ledakan, namun dapat menjadi titik yang berada tepat di sebelah titik $i$ yang sudah memiliki nilai $t$."
   ]
  },
  {
   "cell_type": "code",
   "execution_count": null,
   "metadata": {
    "scrolled": true
   },
   "outputs": [],
   "source": [
    "t = grid\n",
    "t[int(source_z), int(source_x)] = 0\n",
    "\n",
    "# print(\"Matriks t input: \\n\", t)\n",
    "\n",
    "# lateral propagation from source\n",
    "# left direction\n",
    "for i in reversed(range(0, int(source_x))):\n",
    "    t[int(source_z), i] = t[int(source_z), i + 1] + ((h / 2) * (slowness[int(source_z), i] + slowness[int(source_z), i + 1]))\n",
    "# right direction\n",
    "for i in range(int(source_x) + 1, grid_x):\n",
    "    t[int(source_z), i] = t[int(source_z), i - 1] + ((h / 2) * (slowness[int(source_z), i] + slowness[int(source_z), i - 1]))\n",
    "\n",
    "# vertical propagation from source\n",
    "# upward direction\n",
    "for i in reversed(range(0, int(source_z))):\n",
    "    t[i, int(source_x)] = t[i + 1, int(source_x)] + ((h / 2) * (slowness[i, int(source_x)] + slowness[i + 1, int(source_x)]))\n",
    "# downward direction\n",
    "for i in range(int(source_z) + 1, grid_z):\n",
    "    t[i, int(source_x)] = t[i - 1, int(source_x)] + ((h / 2) * (slowness[i, int(source_x)] + slowness[i - 1, int(source_x)]))\n",
    "    \n",
    "# print(\"\\nMatriks t setelah perhitungan arah lateral dan vertikal dari sumber: \\n\", t)"
   ]
  },
  {
   "cell_type": "markdown",
   "metadata": {},
   "source": [
    "## Perhitungan $t$ Diagonal"
   ]
  },
  {
   "cell_type": "markdown",
   "metadata": {},
   "source": [
    "### Pendekatan 1"
   ]
  },
  {
   "cell_type": "markdown",
   "metadata": {},
   "source": [
    "Pendekatan 1 memiliki tingkat akurasi ekstrapolasi nilai $t$ yang baik ketika bentuk muka gelombang dianggap rata atau _flat_. Perambatan gelombang dua dimensi mengikuti persamaan eikonal _ray tracing_ berikut:\n",
    "$$\n",
    "\\left(\\frac{\\partial t}{\\partial x}\\right)^{2} + \\left(\\frac{\\partial t}{\\partial z}\\right)^{2} = s\\left(x, z\\right)^{2}\n",
    "$$\n",
    "Dalam _finite differences_ , suku diferensial dapat didefinisikan sebagai berikut:\n",
    "$$\n",
    "\\frac{\\partial t}{\\partial x} = \\frac{1}{2h} \\left(t_{0} + t_{2} - t_{1} - t_{3}\\right) \\\\\n",
    "\\frac{\\partial t}{\\partial z} = \\frac{1}{2h} \\left(t_{0} + t_{1} - t_{2} - t_{3}\\right)\n",
    "$$\n",
    "Sehingga:\n",
    "$$\n",
    "t_{3} = t_{0} + \\sqrt{2(hs)^{2} - (t_{2} - t_{1})^2}\n",
    "$$\n",
    "dimana $t_{3}$ adalah waktu pada titik yang diapit oleh titik $1$ dan $2$ serta berseberangan dengan titik $0$ secara diagonal."
   ]
  },
  {
   "cell_type": "code",
   "execution_count": null,
   "metadata": {},
   "outputs": [],
   "source": [
    "# print(\"Matriks t input: \\n\", t)\n",
    "\n",
    "# right direction\n",
    "for i in range(int(source_x) + 1, grid_x):\n",
    "    # upper\n",
    "    for j in reversed(range(0, int(source_z))):\n",
    "        t[j, i] = t[j + 1, i - 1] + np.sqrt(2 * (h * slowness[j + 1, i - 1])**(2) - (t[j + 1, i] - t[j, i - 1])**(2))\n",
    "    # lower\n",
    "    for j in range(int(source_z) + 1, grid_z):\n",
    "        t[j, i] = t[j - 1, i - 1] + np.sqrt(2 * (h * slowness[j - 1, i - 1])**(2) - (t[j - 1, i] - t[j, i - 1])**(2))\n",
    "\n",
    "# print(\"\\nMatriks t setelah perhitungan ke arah kanan dari sumber: \\n\", t)\n",
    "\n",
    "# left direction\n",
    "for i in reversed(range(0, int(source_x))):\n",
    "    # upper\n",
    "    for j in reversed(range(0, int(source_z))):\n",
    "        t[j, i] = t[j + 1, i + 1] + np.sqrt(2 * (h * slowness[j + 1, i + 1])**(2) - (t[j + 1, i] - t[j, i + 1])**(2))\n",
    "    # lower\n",
    "    for j in range(int(source_z) + 1, grid_z):\n",
    "        t[j, i] = t[j - 1, i + 1] + np.sqrt(2 * (h * slowness[j - 1, i + 1])**(2) - (t[j - 1, i] - t[j, i + 1])**(2))\n",
    "\n",
    "# print(\"\\nMatriks t setelah perhitungan ke arah kiri dari sumber: \\n\", t)"
   ]
  },
  {
   "cell_type": "markdown",
   "metadata": {},
   "source": [
    "<hr style=\"height: 2px; color: gray; background-color: gray\">"
   ]
  },
  {
   "cell_type": "markdown",
   "metadata": {},
   "source": [
    "# Plotting"
   ]
  },
  {
   "cell_type": "code",
   "execution_count": null,
   "metadata": {},
   "outputs": [],
   "source": [
    "np.set_printoptions(precision = 2)\n",
    "\n",
    "fig, ax = plt.subplots()\n",
    "cs = ax.contour(x, z, t, levels = 10, cmap = 'plasma')\n",
    "\n",
    "\n",
    "ax.set_title(\"Traveltime (in second) Estimation using Finite Differences\", fontdict = {'fontsize': 14, 'fontweight': 'bold'})\n",
    "ax.set_xlabel(\"Offset (km)\", fontdict = {'fontsize': 12, 'fontweight': 'medium'})\n",
    "ax.set_ylabel(\"Depth (km)\", fontdict = {'fontsize': 12, 'fontweight': 'medium'})\n",
    "\n",
    "ax.xaxis.tick_top()\n",
    "ax.xaxis.set_label_position('top') \n",
    "\n",
    "fgz_scale = 10 # inches\n",
    "fgz_x = (grid_x / max(grid_x, grid_z)) * fgz_scale\n",
    "fgz_z = (grid_z / max(grid_x, grid_z)) * fgz_scale\n",
    "\n",
    "fig.set_size_inches(fgz_x, fgz_z)\n",
    "plt.gca().invert_yaxis()\n",
    "\n",
    "ax.clabel(cs, inline=True, fontsize = '12', inline_spacing=5, fmt='%1.1f s')\n",
    "\n",
    "plt.show()"
   ]
  }
 ],
 "metadata": {
  "kernelspec": {
   "display_name": "Python 3",
   "language": "python",
   "name": "python3"
  },
  "language_info": {
   "codemirror_mode": {
    "name": "ipython",
    "version": 3
   },
   "file_extension": ".py",
   "mimetype": "text/x-python",
   "name": "python",
   "nbconvert_exporter": "python",
   "pygments_lexer": "ipython3",
   "version": "3.8.3"
  }
 },
 "nbformat": 4,
 "nbformat_minor": 4
}
