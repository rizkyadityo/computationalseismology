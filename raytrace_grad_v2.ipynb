{
 "cells": [
  {
   "cell_type": "code",
   "execution_count": 436,
   "metadata": {},
   "outputs": [],
   "source": [
    "import sys\n",
    "import numpy as np\n",
    "import matplotlib.pyplot as plt\n",
    "np.set_printoptions(suppress=True)\n",
    "np.set_printoptions(threshold=sys.maxsize)"
   ]
  },
  {
   "cell_type": "markdown",
   "metadata": {},
   "source": [
    "# Input Parameters"
   ]
  },
  {
   "cell_type": "markdown",
   "metadata": {},
   "source": [
    "Di bawah ini adalah parameter yang digunakan dalam ray tracing pada medium dengan gradien kecepatan konstan."
   ]
  },
  {
   "cell_type": "code",
   "execution_count": 437,
   "metadata": {},
   "outputs": [],
   "source": [
    "rays = 1 # jumlah ray\n",
    "\n",
    "inc_z = 1 # increment nilai kedalaman\n",
    "z        = np.array([1000]) # ketebalan medium\n",
    "velo_i   = np.array([4000]) # kecepatan awal V0\n",
    "velo_f   = np.array([2000]) # kecepatan akhir V(z)\n",
    "layers = np.shape(z)[0]\n",
    "\n",
    "depth = np.zeros([1, layers+1])\n",
    "for i in range(1, layers + 1):\n",
    "    depth[0, 0] = 0\n",
    "    depth[0, i] = depth[0, i - 1] + z[i - 1]\n",
    "\n",
    "# pembuatan matriks kedalaman\n",
    "dz = np.zeros([1, 1])\n",
    "for i in range(layers):\n",
    "    a = np.transpose(np.amax(dz) + np.array([np.arange(1, z[i]+1, inc_z)]))\n",
    "    dz = np.append(dz, a, axis = 0)"
   ]
  },
  {
   "cell_type": "markdown",
   "metadata": {},
   "source": [
    "# Gradient & Slowness Vector Components"
   ]
  },
  {
   "cell_type": "markdown",
   "metadata": {},
   "source": [
    "Besar kecepatan medium mengikuti persamaan:\n",
    "$$\n",
    "V(z) = V_{0} + bz\n",
    "$$\n",
    "Dengan menggunakan persamaan di atas, nilai gradien ($b$) adalah:\n",
    "$$\n",
    "b = \\frac{V(z) - V_{0}}{z}\n",
    "$$\n",
    "dimana $V(z)$ adalah kecepatan medium pada titik $z$, $V_{0}$ adalah kecepatan pada titik awal, dan $z$ adalah jarak atau ketebalan medium. Di bawah ini adalah perhitungan nilai gradien $b$:"
   ]
  },
  {
   "cell_type": "code",
   "execution_count": 438,
   "metadata": {},
   "outputs": [],
   "source": [
    "b = np.zeros([1, layers])\n",
    "for i in range(layers):\n",
    "    b[0, i] = (velo_f[i] - velo_i[i]) / z[i]"
   ]
  },
  {
   "cell_type": "markdown",
   "metadata": {},
   "source": [
    "Perhitungan dilakukan pada bidang $(x, z)$ dengan $y = 0$ sehingga komponen vektor slowness arah y ($p_{y}$) bernilai 0. Medium memiliki velocity homogen secara lateral sehingga:\n",
    "$$\n",
    "p_{x} = p = \\sin{i(z)}/V(z)\n",
    "$$\n",
    "dimana $i$ adalah sudut takeoff dan $V(z)$ adalah nilai kecepatan pada kedalaman $z$. Dengan menggunakan persamaan eikonal $p_{x}^{2} + p_{z}^{2} = V^{-2}$, maka $p_{z_{0}}$ dapat dihitung sebagai berikut: \n",
    "$$\n",
    "p_{z_{0}} = \\sqrt{V_{0}^{-2} - p^{2}}\n",
    "$$\n",
    "Di bawah ini adalah looping untuk memperoleh sudut takeoff $(i)$, $p$, dan $p_{z}$."
   ]
  },
  {
   "cell_type": "code",
   "execution_count": 439,
   "metadata": {},
   "outputs": [],
   "source": [
    "# perhitungan nilai sudut takeoff\n",
    "theta    = np.zeros([1, rays])\n",
    "diff     = 10 # perbedaan sudut setiap gelombang\n",
    "for i in range(0, rays):\n",
    "    theta[0, i] = (1 + i) * diff"
   ]
  },
  {
   "cell_type": "code",
   "execution_count": 440,
   "metadata": {},
   "outputs": [],
   "source": [
    "# perhitungan nilai p untuk setiap ray\n",
    "p        = np.zeros([1, rays])\n",
    "for i in range(rays):\n",
    "    p[0, i] = np.sin(np.deg2rad(theta[0, i])) / velo_i[0]\n",
    "\n",
    "# perhitungan nilai pz0 untuk setiap ray dengan menggunakan V0 di titik awal\n",
    "pz       = np.zeros([layers, rays])\n",
    "for j in range(rays):\n",
    "    for i in range(layers):\n",
    "        pz[i, j] = np.sqrt((1/(velo_i[i]))**(2) - (p[0, j])**2)"
   ]
  },
  {
   "cell_type": "markdown",
   "metadata": {},
   "source": [
    "# Lateral Displacement"
   ]
  },
  {
   "cell_type": "markdown",
   "metadata": {},
   "source": [
    "Akibat kecepatan medium yang memiliki gradien, perambatan gelombang pada medium menjadi melingkar. Cerveny mendefinisikan perpindahan lateral gelombang pada arah $x$ sebagai fungsi kedalaman $z$ dan besar gradien $b$ sebagai berikut:\n",
    "$$\n",
    "\\left[x - x_{0} - \\frac{p_{z_{0}} V_{0}}{b p} \\right]^{2} + \\left[z - z_{0} - \\frac{V_{0}}{b} \\right]^{2} = \\frac{1}{p^{2} b^{2}}\n",
    "$$\n",
    "Dengan menyusun ulang persamaan di atas, diperoleh:\n",
    "$$\n",
    "x = \\sqrt{\\frac{1}{p^{2} b^{2}} - \\left[z - z_{0} - \\frac{V_{0}}{b} \\right]^{2}} + x_{0} + \\frac{p_{z_{0}} V_{0}}{b p}\n",
    "$$"
   ]
  },
  {
   "cell_type": "code",
   "execution_count": 441,
   "metadata": {},
   "outputs": [],
   "source": [
    "# pembuatan matriks perpindahan lateral (x)\n",
    "x = np.zeros([np.shape(dz)[0], rays])\n",
    "\n",
    "# perhitungan nilai x di setiap kedalaman (z) dengan nilai b dan pz0 yang sudah dihitung sebelumnya\n",
    "for j in range(rays):\n",
    "    for k in range(layers):\n",
    "        for i in range(int(depth[0, k]) + 1, int(depth[0, k + 1]) + 1):\n",
    "            var1 = 1 / ((p[0, j]**2) * (b[0, k])**2)\n",
    "            var2 = (dz[i, 0] + (velo_i[k] / b[0, k]))**2\n",
    "            var3 = (pz[k, j] * velo_i[k]) / (b[0, k] * p[0, j])\n",
    "            x[i, j] = np.sqrt(var1 - var2) + x[int(depth[0, k]), j] + var3"
   ]
  },
  {
   "cell_type": "markdown",
   "metadata": {},
   "source": [
    "# Plotting"
   ]
  },
  {
   "cell_type": "code",
   "execution_count": 452,
   "metadata": {},
   "outputs": [
    {
     "data": {
      "image/png": "[encoded data removed]",
      "text/plain": [
       "<Figure size 432x612 with 1 Axes>"
      ]
     },
     "metadata": {
      "needs_background": "light"
     },
     "output_type": "display_data"
    }
   ],
   "source": [
    "fig, ax = plt.subplots()\n",
    "for i in range(rays):\n",
    "    ax.plot(x[:, i], np.flip(dz[:, 0], 0))\n",
    "ax.set_title(\"Ray Tracing\", fontdict = {'fontsize': 16, 'fontweight': 'bold'})\n",
    "ax.set_xlabel(\"Offset (m)\", fontdict = {'fontsize': 12, 'fontweight': 'medium'})\n",
    "ax.set_ylabel(\"Depth (m)\", fontdict = {'fontsize': 12, 'fontweight': 'medium'})\n",
    "plt.gca().invert_yaxis()\n",
    "for i in range(len(depth)):\n",
    "    plt.hlines(depth[i], 0, np.amax(x), colors='r')\n",
    "fig.set_size_inches(6, 8.5)\n",
    "plt.show()"
   ]
  }
 ],
 "metadata": {
  "kernelspec": {
   "display_name": "Python 3",
   "language": "python",
   "name": "python3"
  },
  "language_info": {
   "codemirror_mode": {
    "name": "ipython",
    "version": 3
   },
   "file_extension": ".py",
   "mimetype": "text/x-python",
   "name": "python",
   "nbconvert_exporter": "python",
   "pygments_lexer": "ipython3",
   "version": "3.8.3"
  }
 },
 "nbformat": 4,
 "nbformat_minor": 4
}
