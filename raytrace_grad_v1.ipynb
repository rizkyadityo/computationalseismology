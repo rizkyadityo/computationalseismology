{
 "cells": [
  {
   "cell_type": "code",
   "execution_count": 379,
   "metadata": {},
   "outputs": [],
   "source": [
    "import sys\n",
    "import numpy as np\n",
    "import matplotlib.pyplot as plt\n",
    "np.set_printoptions(suppress=True)\n",
    "np.set_printoptions(threshold=sys.maxsize)"
   ]
  },
  {
   "cell_type": "markdown",
   "metadata": {},
   "source": [
    "# Input Parameters"
   ]
  },
  {
   "cell_type": "code",
   "execution_count": 380,
   "metadata": {},
   "outputs": [],
   "source": [
    "rays     = 1\n",
    "\n",
    "inc_z    = 1\n",
    "z        = np.array([3000, 4000, 3000])\n",
    "velo_i   = np.array([3000, 4500, 6000])\n",
    "velo_f   = np.array([2200, 3000, 4500])\n",
    "# z        = np.array([800])\n",
    "# velo_i   = np.array([3500])\n",
    "# velo_f   = np.array([2000])\n",
    "layers   = np.shape(z)[0]\n",
    "\n",
    "depth = np.zeros([1, layers+1])\n",
    "for i in range(1, layers + 1):\n",
    "    depth[0, 0] = 0\n",
    "    depth[0, i] = depth[0, i - 1] + z[i - 1]\n",
    "    \n",
    "    \n",
    "b        = np.zeros([1, layers])\n",
    "for i in range(layers):\n",
    "    b[0, i] = (velo_f[i] - velo_i[i]) / z[i]\n",
    "\n",
    "dz = np.zeros([1, 1])\n",
    "for i in range(layers):\n",
    "    a = np.transpose(np.amax(dz) + np.array([np.arange(1, z[i]+1, inc_z)]))\n",
    "    dz = np.append(dz, a, axis = 0)\n",
    "\n",
    "velo = np.zeros([np.shape(dz)[0], 1])\n",
    "for j in range(layers):\n",
    "    for i in range(int(depth[0,j]) + 1, int(depth[0,j+1]) + 1):\n",
    "        velo[i, 0] = velo_i[j] + (dz[i, 0] - depth[0, j]) * b[0, j]\n",
    "velo[0, 0] = velo_i[0]"
   ]
  },
  {
   "cell_type": "code",
   "execution_count": 381,
   "metadata": {},
   "outputs": [],
   "source": [
    "theta    = np.zeros([1, rays])\n",
    "for i in range(0, rays):\n",
    "    theta[0, i] = (1 + i) * 20"
   ]
  },
  {
   "cell_type": "markdown",
   "metadata": {},
   "source": [
    "# Ray Parameter"
   ]
  },
  {
   "cell_type": "code",
   "execution_count": 382,
   "metadata": {},
   "outputs": [
    {
     "name": "stdout",
     "output_type": "stream",
     "text": [
      "p = \n",
      " [[0.00015546]\n",
      " [0.00011401]\n",
      " [0.000076  ]]\n"
     ]
    }
   ],
   "source": [
    "p        = np.zeros([layers, rays])\n",
    "for j in range(rays):\n",
    "    for i in range(layers):\n",
    "        p[i, j] = np.sin(np.deg2rad(theta[0, j])) / velo_f[i]\n",
    "print(\"p = \\n\", p)\n",
    "\n",
    "pz = np.zeros([np.shape(velo)[0], rays])\n",
    "for j in range(rays):\n",
    "    pz[0, j] = np.sqrt((1/(velo[0]))**(2) - (p[0, j])**2)\n",
    "    for k in range(layers):\n",
    "        for i in range(int(depth[0, k]) + 1, int(depth[0, k + 1]) + 1):\n",
    "            pz[i, j] = np.sqrt((1/(velo[i]))**(2) - (p[k, j])**2)"
   ]
  },
  {
   "cell_type": "markdown",
   "metadata": {},
   "source": [
    "# Lateral Displacement"
   ]
  },
  {
   "cell_type": "code",
   "execution_count": 383,
   "metadata": {},
   "outputs": [],
   "source": [
    "dx = np.zeros([np.shape(velo)[0], rays])\n",
    "for j in range(rays):\n",
    "    dx[0, j] = p[0, j] * inc_z/ pz[0, j]\n",
    "    for k in range(layers):\n",
    "        for i in range(int(depth[0, k]) + 1, int(depth[0, k + 1]) + 1):\n",
    "            dx[i, j] = p[k, j] * inc_z/ pz[i, j]\n",
    "        dx_sum = np.sum(dx[:, j])\n",
    "\n",
    "for j in range(rays):\n",
    "    for i in range(1, np.shape(dx)[0]):\n",
    "        dx[i, j] = dx[i, j] + dx[i - 1, j]\n",
    "\n",
    "dz = np.flip(dz, 0)"
   ]
  },
  {
   "cell_type": "markdown",
   "metadata": {},
   "source": [
    "# Plotting"
   ]
  },
  {
   "cell_type": "code",
   "execution_count": 384,
   "metadata": {},
   "outputs": [
    {
     "data": {
      "image/png": "[encoded data removed]",
      "text/plain": [
       "<Figure size 432x288 with 1 Axes>"
      ]
     },
     "metadata": {
      "needs_background": "light"
     },
     "output_type": "display_data"
    }
   ],
   "source": [
    "fig, ax = plt.subplots()\n",
    "for i in range(rays):\n",
    "    ax.plot(dx[:, i], dz[:, 0])\n",
    "ax.set_title(\"Ray Tracing\")\n",
    "for i in range(len(depth)):\n",
    "    plt.hlines(depth[i], 0, np.amax(dx), colors='r')\n",
    "plt.gca().invert_yaxis()\n",
    "# fig.set_size_inches(18.5, 7.5)\n",
    "# fig.savefig('test.png', dpi=300)\n",
    "plt.show()"
   ]
  }
 ],
 "metadata": {
  "kernelspec": {
   "display_name": "Python 3",
   "language": "python",
   "name": "python3"
  },
  "language_info": {
   "codemirror_mode": {
    "name": "ipython",
    "version": 3
   },
   "file_extension": ".py",
   "mimetype": "text/x-python",
   "name": "python",
   "nbconvert_exporter": "python",
   "pygments_lexer": "ipython3",
   "version": "3.8.3"
  }
 },
 "nbformat": 4,
 "nbformat_minor": 4
}
