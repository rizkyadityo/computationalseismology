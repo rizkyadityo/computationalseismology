{
 "cells": [
  {
   "cell_type": "markdown",
   "metadata": {},
   "source": [
    "<img align=\"right\" width=\"100\" height=\"100\" src=\"https://jatinangor.itb.ac.id/wp-content/uploads/sites/17/2012/12/Logo-ITB-polos20-1.jpg\">\n",
    "\n",
    "## Tugas Seismologi Komputasi \n",
    "*Meta Nisrina Syafitri - 22319302*<br>\n",
    "*Farhan Hamid Lubis - 22319310*<br>\n",
    "*Rizky Adityo Prastama - 22319310*\n",
    "***\n",
    "### Pembuatan seismogram sintetik\n",
    "\n",
    "Siesmogram sintetik pada tugas ini didapat dari hasil perkalian konvolusi sebagai berikut:\n",
    "\n",
    "\\begin{align}\n",
    "trace(t) = wavelet(t) \\ast reflectivity(t)\n",
    "\\end{align}\n",
    "\n",
    "Pembuatan seismogram sintetik ini terdiri dari beberapa tahapan antara lain:\n",
    "- Pembuatan model kecepatan lapisan 2 dimensi \n",
    "- Konversi domain kedalaman menjadi domain waktu\n",
    "- Resampling data\n",
    "- Perhitungan koefisien refleksi\n",
    "- Pembuatan wavelet sumber menggunakan model Ricker\n",
    "- Konvolusi wavelet dengan koefisien refleksi\n",
    "- Visualisasi \n",
    "\n",
    "Berikut ini dijelaskan tahapan dan fungsi yang digunakan dalam pembuatan seismogram sintetik"
   ]
  },
  {
   "cell_type": "markdown",
   "metadata": {},
   "source": [
    "#### Step 1 : Pembuatan model kecepatan\n",
    "\n",
    "Model kecepatan dibuat memiliki lima lapisan dengan dipping diposisikan pada kedalaman diatas 200 meter. Rata-rata lapisan memiliki ketebalan 200 meter dan memiliki lapisan tipis di kedalaman sekitar 380 - 480 meter. Model lapisan seperti ini bertujuan untuk melihat efek nilai frekuensi sumber terhadap resolusi vertikal dari seismogram sintetik yang dihasilkan"
   ]
  },
  {
   "cell_type": "code",
   "execution_count": 1,
   "metadata": {},
   "outputs": [],
   "source": [
    "import numpy as np\n",
    "import matplotlib.pyplot as plt\n",
    "import ipywidgets as widgets\n",
    "from scipy import interpolate\n",
    "from ipywidgets import interact\n",
    "%matplotlib inline"
   ]
  },
  {
   "cell_type": "code",
   "execution_count": 2,
   "metadata": {
    "scrolled": true
   },
   "outputs": [],
   "source": [
    "n_samples, n_traces = [600,300]\n",
    "velocity = 1400*np.ones((n_samples, n_traces))\n",
    "\n",
    "# Lapisan horizontal\n",
    "velocity[200:300, :] = 2200\n",
    "velocity[400:, :] = 3500\n",
    "\n",
    "# Lapisan miring\n",
    "x = np.arange(0,n_traces)\n",
    "u1 = x/4\n",
    "u1 = u1.astype(int)\n",
    "for i in range(200,380):\n",
    "    velocity[np.array(u1)+i, np.array(x)]=2600\n",
    "for i in range(380,410):\n",
    "    velocity[np.array(u1)+i, np.array(x)]=3000"
   ]
  },
  {
   "cell_type": "code",
   "execution_count": 3,
   "metadata": {},
   "outputs": [
    {
     "data": {
      "text/plain": [
       "Text(140, 520, '3500 m/s')"
      ]
     },
     "execution_count": 3,
     "metadata": {},
     "output_type": "execute_result"
    },
    {
     "data": {
      "image/png": "[encoded data removed]",
      "text/plain": [
       "<Figure size 1080x576 with 1 Axes>"
      ]
     },
     "metadata": {
      "needs_background": "light"
     },
     "output_type": "display_data"
    }
   ],
   "source": [
    "fig = plt.figure(figsize=(15, 8))\n",
    "ax = fig.add_subplot(1, 1, 1)\n",
    "ax.set_title(\"Model kecepatan lapisan\")\n",
    "tmp = ax.imshow(velocity, extent=[0, n_traces, n_samples, 0],\n",
    "                    cmap=\"copper_r\", aspect='auto', origin='upper')\n",
    "ax.set_xlabel('Offset')\n",
    "ax.set_ylabel('Kedalaman (m)')\n",
    "ax.text(140, 100, '1400 m/s',bbox={'facecolor': 'white', 'alpha': 0.7, 'pad': 5})\n",
    "ax.text(140, 218, '2200 m/s',bbox={'facecolor': 'white', 'alpha': 0.7, 'pad': 5})\n",
    "ax.text(140, 335, '2600 m/s',bbox={'facecolor': 'white', 'alpha': 0.7, 'pad': 5})\n",
    "ax.text(140, 435, '3000 m/s',bbox={'facecolor': 'white', 'alpha': 0.7, 'pad': 5})\n",
    "ax.text(140, 520, '3500 m/s',bbox={'facecolor': 'white', 'alpha': 0.7, 'pad': 5})"
   ]
  },
  {
   "cell_type": "markdown",
   "metadata": {},
   "source": [
    "#### Step 2 : Konversi domain kedalaman ke dalam domain waktu\n",
    "\n",
    "Tahapan ini bertujuan untuk menghasilkan model lapisan dalam domain waktu agar dapat dikonvolusi dengan wavelet sumber.\n",
    "\n",
    "Parameter input:\n",
    "\n",
    "    * vel : 2D-array\n",
    "        Nilai kecepatan dalam domain kedalaman.\n",
    "    * model : 2D-array\n",
    "        Model kecepatan dalam domain kedalaman.\n",
    "    * dt: float\n",
    "        Nilai sampling rate wavelet sumber.\n",
    "    * dz : float\n",
    "        Panjang grid sel.\n",
    "    * rho : 2D-array (optional)\n",
    "        Nilai densitas model lapisan dalam domain kedalaman.\n",
    "Return:\n",
    "\n",
    "    * model_t : 2D-array\n",
    "        Model lapisan dalam domain waktu."
   ]
  },
  {
   "cell_type": "code",
   "execution_count": 4,
   "metadata": {},
   "outputs": [],
   "source": [
    "def depth_2_time(vel, model, dt, dz):\n",
    "    \n",
    "    # downsampled time rate to make a better interpolation\n",
    "    n_samples, n_traces = [vel.shape[0], vel.shape[1]]\n",
    "    dt_dwn = dt/10.\n",
    "\n",
    "    if dt_dwn > dz/np.max(vel):\n",
    "        dt_dwn = (dz/np.max(vel))/10.\n",
    "\n",
    "    TWT = np.zeros((n_samples, n_traces))\n",
    "    TWT[0, :] = 2*dz/vel[0, :]\n",
    "\n",
    "    for j in range(1, n_samples):\n",
    "        TWT[j, :] = TWT[j-1]+2*dz/vel[j, :]\n",
    "        TMAX = max(TWT[-1, :])\n",
    "        TMIN = min(TWT[0, :])\n",
    "        TWT_rs = np.zeros(int(np.ceil(TMAX/dt_dwn)))\n",
    "\n",
    "    for j in range(1, len(TWT_rs)):\n",
    "        TWT_rs[j] = TWT_rs[j-1]+dt_dwn\n",
    "\n",
    "    resmpl = int(dt/dt_dwn)\n",
    "    model_t = _resampling(model, TMAX, TWT, TWT_rs, dt, dt_dwn, n_traces)\n",
    "    \n",
    "    return model_t"
   ]
  },
  {
   "cell_type": "markdown",
   "metadata": {},
   "source": [
    "#### Step 3 : Resampling data\n",
    "\n",
    "Proses ini bertujuan untuk menyesuaikan model kecepatan domain waktu dengan nilai nilai sampling rate (dt) yang telah ditentukan\n",
    "\n",
    "Return:\n",
    "\n",
    "    * vel_l : 2D-array\n",
    "        Inputan data hasil sampling ulang."
   ]
  },
  {
   "cell_type": "code",
   "execution_count": 5,
   "metadata": {},
   "outputs": [],
   "source": [
    "def _resampling(model, TMAX, TWT, TWT_rs, dt, dt_dwn, n_traces):\n",
    "    \n",
    "    vel = np.ones((int(np.ceil(TMAX/dt_dwn)), n_traces))\n",
    "    for j in range(0, n_traces):\n",
    "        kk = int(np.ceil(TWT[0, j]/dt_dwn))\n",
    "        lim = int(np.ceil(TWT[-1, j]/dt_dwn)-1)\n",
    "        \n",
    "    # necessary do before resampling to have values in all points of time model\n",
    "        tck = interpolate.interp1d(TWT[:, j], model[:, j])\n",
    "        vel[kk:lim, j] = tck(TWT_rs[kk:lim])\n",
    "        \n",
    "    # the model is extended in time because of depth time conversion\n",
    "        vel[lim:, j] = vel[lim-1, j]\n",
    "        \n",
    "    # because of time conversion, the values between 0 e kk need to be filed\n",
    "        vel[0:kk, j] = model[0, j]\n",
    "        \n",
    "    # resampling from dt_dwn to dt\n",
    "    vel_l = np.zeros((int(np.ceil(TMAX/dt)), n_traces))\n",
    "    resmpl = int(dt/dt_dwn)\n",
    "    vel_l[0, :] = vel[0, :]\n",
    "    for j in range(0, n_traces):\n",
    "        for jj in range(1, int(np.ceil(TMAX/dt))):\n",
    "            vel_l[jj, j] = vel[resmpl*jj, j]\n",
    "            \n",
    "    return vel_l"
   ]
  },
  {
   "cell_type": "markdown",
   "metadata": {},
   "source": [
    "#### Step 4 : Perhitungan koefisien refleksi\n",
    "\n",
    "Perhitungan nilai koefisien refleksi pada tahapan ini dilakukan dalam domain waktu, sehingga model kecepatan perlu dikonversikan terlebih dahulu ke dalam domain waktu. Nilai koefisien refleksi dihitung menggunakan persamaan sebagai berikut\n",
    "\n",
    "$$ RC = \\frac{\\rho_2 V_2 - \\rho_1V_1}{\\rho_2 V_2 + \\rho_1V_1} $$\n",
    "\n",
    "Parameter input:\n",
    "\n",
    "    * model_t : 2D-array\n",
    "        Nilai kecepatan dalam domain waktu.\n",
    "    * rho : 2D-array (optional)\n",
    "        Nilai densitas dalam domain waktu.\n",
    "\n",
    "Return:\n",
    "\n",
    "    * rc : 2D-array\n",
    "        Nilai koefisien refleksi untuk masing-masing lapisan.\n"
   ]
  },
  {
   "cell_type": "code",
   "execution_count": 6,
   "metadata": {},
   "outputs": [],
   "source": [
    "def reflectivity(model_t, rho):\n",
    "    \n",
    "    rc = np.zeros(np.shape(model_t))\n",
    "    rc[1:, :] = ((model_t[1:]*rho[1:]-model_t[:-1]*rho[:-1]) /\n",
    "                 (model_t[1:]*rho[1:]+model_t[:-1]*rho[:-1]))\n",
    "    return rc"
   ]
  },
  {
   "cell_type": "markdown",
   "metadata": {},
   "source": [
    "#### Step 5 : Pembuatan wavelet sumber - model Ricker\n",
    "\n",
    "Pembuatan wavelet sumber menggunakan model Ricker dihitung dengan menggunakan persamaan berikut:\n",
    "\n",
    "$$\n",
    "f(t)=(1-2\\pi^2f_m^2t^2)e^{-\\pi^2f^2_Mt^2}\n",
    "$$\n",
    "\n",
    "Agar stabilitas dapat tercapai, penentuan nilai frekuensi perlu memenuhi syarat berikut: \n",
    "\n",
    "$$\n",
    "    f << \\frac{1}{2 dt}.\n",
    "$$\n",
    "\n",
    "Parameter input:\n",
    "\n",
    "    * f : float\n",
    "        Nilai frekuensi dominan (Hz)\n",
    "    * dt : float\n",
    "        Nilai sampling rate wavelet sumber (ms).\n",
    "\n",
    "Return:\n",
    "\n",
    "    * ricker : float\n",
    "        Fungsi wavelet Ricker."
   ]
  },
  {
   "cell_type": "code",
   "execution_count": 7,
   "metadata": {},
   "outputs": [],
   "source": [
    "def ricker(f,dt,length):\n",
    "    t=np.linspace(-length/2,(length)/2,int((length+dt)/dt))\n",
    "    y=(1.-2.*(np.pi**2)*(f**2)*(t**2))*np.exp(-(np.pi**2)*(f**2)*(t**2))\n",
    "    return t,y"
   ]
  },
  {
   "cell_type": "markdown",
   "metadata": {},
   "source": [
    "#### Step 6 : Perhitungan konvolusi\n",
    "\n",
    "Pada tahapan ini dilakukan konvolusi pada model kecepatan lapisan. Nilai densitas lapisan besifat opsional dan dapat ditambahkan.  \n",
    "\n",
    "Parameter input:\n",
    "\n",
    "    * rc : 2D-array\n",
    "        Nilai koefisien refleksi dalam domain waktu.\n",
    "    * f : float\n",
    "        Nilai frekuensi dominan wavelet sumber.\n",
    "    * wavelet : float\n",
    "        Fungsi wavelet sumber yang digunakan.\n",
    "    * dt: float\n",
    "        Nilai sampling rate wavelet sumber.\n",
    "\n",
    "Return:\n",
    "\n",
    "    * synth_l : 2D-array\n",
    "        Hasil seismogram sintetik."
   ]
  },
  {
   "cell_type": "code",
   "execution_count": 8,
   "metadata": {},
   "outputs": [],
   "source": [
    "def convolutional_model(rc, f, wavelet, dt):\n",
    "\n",
    "    t,w = wavelet(f, dt, length)\n",
    "    synth_l = np.zeros(np.shape(rc))\n",
    "    for j in range(0, rc.shape[1]):\n",
    "        if np.shape(rc)[0] >= len(w):\n",
    "            synth_l[:, j] = np.convolve(rc[:, j], w, mode='same')\n",
    "        else:\n",
    "            aux = np.floor(len(w)/2.)\n",
    "            synth_l[:, j] = np.convolve(rc[:, j], w, mode='full')[aux:-aux]\n",
    "    return synth_l"
   ]
  },
  {
   "cell_type": "markdown",
   "metadata": {},
   "source": [
    "#### Step 7 : Visualisasi\n",
    "    \n",
    "Parameters:\n",
    "\n",
    "    * section :  2D array\n",
    "        Tras seismik dalam bentuk matriks.\n",
    "    * dt : float\n",
    "        Nilai sampling rate.\n",
    "    * ranges : (x1, x2)\n",
    "        Jarak minimal dan maksimal tras (menentukan jumlah tras).\n",
    "    * scale : float\n",
    "        Faktor skala untuk dikalikan pada amplitude seismik.\n",
    "    * color : tuple atau strings\n",
    "        Warna pada wiggle seismik.\n",
    "    * normalize :\n",
    "        Normalisasi tras menggunakan nilai max/min global (True/False)"
   ]
  },
  {
   "cell_type": "code",
   "execution_count": 9,
   "metadata": {},
   "outputs": [],
   "source": [
    "def seismic_wiggle(section, dt=0.002, ranges=None, scale=1.,\n",
    "                   color='k', normalize=True):\n",
    "    \n",
    "    npts, ntraces = section.shape  # time/traces\n",
    "    if ntraces < 1:\n",
    "        raise IndexError(\"Nothing to plot\")\n",
    "    if npts < 1:\n",
    "        raise IndexError(\"Nothing to plot\")\n",
    "    t = np.linspace(0, dt*npts, npts)\n",
    "    amp = 1.  # normalization factor\n",
    "    gmin = 0.  # global minimum\n",
    "    toffset = 0.  # offset in time to make 0 centered\n",
    "    \n",
    "    if normalize:\n",
    "        gmax = section.max()\n",
    "        gmin = section.min()\n",
    "        amp = (gmax-gmin)\n",
    "        toffset = 0.5\n",
    "    plt.ylim(max(t), 0)\n",
    "    \n",
    "    if ranges is None:\n",
    "        ranges = (0, ntraces)\n",
    "    x0, x1 = ranges\n",
    "    \n",
    "    # horizontal increment\n",
    "    dx = float((x1-x0)/ntraces)\n",
    "    plt.xlim(x0, x1)\n",
    "    \n",
    "    for i, trace in enumerate(section.transpose()):\n",
    "        tr = (((trace-gmin)/amp)-toffset)*scale*dx\n",
    "        x = x0+i*dx  # x positon for this trace\n",
    "        plt.plot(x+tr, t, 'k')\n",
    "        plt.fill_betweenx(t, x+tr, x, tr > 0, color=color)"
   ]
  },
  {
   "cell_type": "code",
   "execution_count": 10,
   "metadata": {},
   "outputs": [
    {
     "data": {
      "application/vnd.jupyter.widget-view+json": {
       "model_id": "1d26a6987f3c47c790ef39f50f7c58d1",
       "version_major": 2,
       "version_minor": 0
      },
      "text/plain": [
       "interactive(children=(IntSlider(value=15, description='Frekuensi dominan', layout=Layout(width='400px'), max=5…"
      ]
     },
     "metadata": {},
     "output_type": "display_data"
    },
    {
     "data": {
      "text/plain": [
       "<function __main__.visualise(f)>"
      ]
     },
     "execution_count": 10,
     "metadata": {},
     "output_type": "execute_result"
    }
   ],
   "source": [
    "# Konvolusi\n",
    "dt = 1e-3\n",
    "length = 0.2\n",
    "vel_l = depth_2_time(velocity, velocity, dt, dz=1)\n",
    "rho_l = 2200*np.ones(np.shape(vel_l))\n",
    "rc = reflectivity(vel_l, rho_l)\n",
    "\n",
    "def visualise(f):\n",
    "    \n",
    "    fig, axes = plt.subplots(1, 3, figsize=(15, 8))\n",
    "    \n",
    "    ax = axes[0]\n",
    "    ax.set_title(\"Velocity model (in depth)\")\n",
    "    tmp = ax.imshow(velocity, extent=[0, n_traces, n_samples, 0],\n",
    "                    cmap=\"copper_r\", aspect='auto', origin='upper')\n",
    "    ax.set_xlabel('Offset')\n",
    "    ax.set_ylabel('Depth (m)')\n",
    "    ax.text(125, 100, '1400 m/s',bbox={'facecolor': 'white', 'alpha': 0.7, 'pad': 5})\n",
    "    ax.text(125, 218, '2200 m/s',bbox={'facecolor': 'white', 'alpha': 0.7, 'pad': 5})\n",
    "    ax.text(125, 335, '2600 m/s',bbox={'facecolor': 'white', 'alpha': 0.7, 'pad': 5})\n",
    "    ax.text(125, 435, '3000 m/s',bbox={'facecolor': 'white', 'alpha': 0.7, 'pad': 5})\n",
    "    ax.text(125, 520, '3500 m/s',bbox={'facecolor': 'white', 'alpha': 0.7, 'pad': 5})\n",
    "\n",
    "    ax = axes[1]\n",
    "    ax.set_title(\"Wavelet (Ricker)\")\n",
    "    [t,y]=ricker(f,dt,length)\n",
    "    ax.plot(y,t)\n",
    "    ax.set_xlabel('Amplitude')\n",
    "    ax.set_ylabel('Time (s)')\n",
    "    ax.invert_yaxis()\n",
    "\n",
    "    ax = axes[2]\n",
    "    ax.set_title(\"Synthetic seismogram\")\n",
    "    synt = convolutional_model(rc, f, ricker, dt)\n",
    "    seismic_wiggle(synt[:, ::20], dt, scale=1.5)\n",
    "    ax.set_xlabel('Trace')\n",
    "    ax.set_ylabel('Time (s)')\n",
    "\n",
    "    plt.tight_layout()\n",
    "    plt.show()\n",
    "\n",
    "style = {'description_width': 'initial'}\n",
    "layout = {'width': '400px'}\n",
    "\n",
    "interact(visualise,f = widgets.IntSlider(min=5, \n",
    "                                         max=50, \n",
    "                                         step=5, \n",
    "                                         value=15,\n",
    "                                         description = 'Frekuensi dominan',\n",
    "                                         layout = layout, \n",
    "                                         style=style))\n"
   ]
  },
  {
   "cell_type": "markdown",
   "metadata": {},
   "source": [
    "***\n",
    "### Reference\n",
    "\n",
    "Yilmaz, Oz,\n",
    "Ch.2 Deconvolution. In: YILMAZ, Oz. Seismic Data Analysis: Processing,\n",
    "Inversion, and Interpretation of Seismic Data. Tulsa: Seg, 2001. Cap. 2.\n",
    "p. 159-270. Available at: <http://dx.doi.org/10.1190/1.9781560801580.ch2>"
   ]
  }
 ],
 "metadata": {
  "kernelspec": {
   "display_name": "compseis",
   "language": "python",
   "name": "compseis"
  },
  "language_info": {
   "codemirror_mode": {
    "name": "ipython",
    "version": 3
   },
   "file_extension": ".py",
   "mimetype": "text/x-python",
   "name": "python",
   "nbconvert_exporter": "python",
   "pygments_lexer": "ipython3",
   "version": "3.8.5"
  }
 },
 "nbformat": 4,
 "nbformat_minor": 4
}
