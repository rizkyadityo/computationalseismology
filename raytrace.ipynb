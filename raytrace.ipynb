{
 "cells": [
  {
   "cell_type": "code",
   "execution_count": 1,
   "metadata": {},
   "outputs": [],
   "source": [
    "import numpy as np\n",
    "import matplotlib.pyplot as plt\n",
    "np.set_printoptions(suppress=True)"
   ]
  },
  {
   "cell_type": "markdown",
   "metadata": {},
   "source": [
    "# Input Parameters"
   ]
  },
  {
   "cell_type": "markdown",
   "metadata": {},
   "source": [
    "Model yang dibuat adalah lapisan bumi homogen secara lateral dengan nilai velocity dan ketebalan masing-masing. Jumlah ray yang digunakan adalah 5."
   ]
  },
  {
   "cell_type": "code",
   "execution_count": 2,
   "metadata": {},
   "outputs": [],
   "source": [
    "rays    = 5 # jumlah ray\n",
    "velo    = np.array([2200, 1300, 2100, 1800, 2500, 1450]) # velocity setiap lapisan\n",
    "dz      = np.array([800, 200, 750, 1200, 500, 250]) # ketebalan lapisan\n",
    "layers  = len(velo)"
   ]
  },
  {
   "cell_type": "code",
   "execution_count": 3,
   "metadata": {},
   "outputs": [],
   "source": [
    "# looping untuk pembentukan sudut takeoff dari setiap ray\n",
    "# pada kasus ini penulis membuat masing-masing ray memiliki selisih 10 derajat\n",
    "theta = np.empty(shape = [0, rays])\n",
    "for i in range(1, rays+1):\n",
    "    t = i * 10 \n",
    "    theta = np.array([np.append(theta, t)])"
   ]
  },
  {
   "cell_type": "markdown",
   "metadata": {},
   "source": [
    "# Ray Parameter"
   ]
  },
  {
   "cell_type": "markdown",
   "metadata": {},
   "source": [
    "Ketika bekerja pada bidang x dan z, maka komponen vektor slowness arah y ($p_{y}$) bernilai 0 dan menyisakan komponen x ($p_{x}$) dan z ($p_{z}$). Variasi velocity yang digunakan hanya ada pada arah vertikal, sehingga:\n",
    "$$\n",
    "p_{x} = p = \\sin{i(z)}/V(z)\n",
    "$$\n",
    "dimana $i$ adalah sudut takeoff dan $V(z)$ adalah nilai kecepatan pada kedalaman $z$. Dengan menggunakan persamaan eikonal $p^{2} + p_{z}^{2} = V^{-2}$, maka $p_{z}$ dapat dihitung sebagai berikut: \n",
    "$$\n",
    "p_{z} = \\sqrt{V^{-2} - p^{2}}\n",
    "$$\n"
   ]
  },
  {
   "cell_type": "code",
   "execution_count": 4,
   "metadata": {},
   "outputs": [
    {
     "name": "stdout",
     "output_type": "stream",
     "text": [
      "[[0.00044764 0.00042713 0.00039365 0.0003482  0.00029218]\n",
      " [0.00076517 0.00075336 0.00073489 0.00071158 0.00068591]\n",
      " [0.0004696  0.0004501  0.00041845 0.00037602 0.00032483]\n",
      " [0.00054992 0.00053336 0.00050694 0.00047252 0.00043289]\n",
      " [0.00039214 0.00036855 0.00032916 0.00027319 0.00019686]\n",
      " [0.00068512 0.0006719  0.00065113 0.00062471 0.0005953 ]]\n"
     ]
    }
   ],
   "source": [
    "p = np.empty(shape = [0, rays])\n",
    "for i in range(rays):\n",
    "    x = np.sin(np.deg2rad(theta[0, i])) / velo[0] # perhitungan nilai px untuk setiap ray\n",
    "    p = np.array([np.append(p, x)])\n",
    "\n",
    "pz = np.empty(shape = [layers, rays])\n",
    "for j in range(rays):\n",
    "    for i in range(layers):\n",
    "        pz[i, j] = np.sqrt((1/(velo[i]))**(2) - (p[0, j])**2) # perhitungan nilai pz setiap ray pada setiap lapisan\n",
    "print(pz)        "
   ]
  },
  {
   "cell_type": "markdown",
   "metadata": {},
   "source": [
    "# Lateral Displacement"
   ]
  },
  {
   "cell_type": "markdown",
   "metadata": {},
   "source": [
    "Perpindahan gelombang secara lateral pada setiap kedalaman dapat dihitung dengan menggunakan rasio antara $p$ dan $p_{z}$ yang sudah diketahui. Dengan demikian:\n",
    "$$\n",
    "\\frac{dx}{dz} = \\frac{p}{p_{z}} = \\frac{p}{\\sqrt{V^{-2} - p^{2}}}\\\\\n",
    "dx = \\frac{p}{\\sqrt{V^{-2} - p^{2}}} dz\n",
    "$$"
   ]
  },
  {
   "cell_type": "code",
   "execution_count": 5,
   "metadata": {},
   "outputs": [],
   "source": [
    "dx = np.empty(shape = [layers, rays])\n",
    "for j in range(rays):\n",
    "    for i in range(layers):\n",
    "        dx[i, j] = p[0, j] * dz[i]/ pz[i, j] # perpindahan gelombang pada sumbu offset (x) berdasarkan nilai p dan pz\n",
    "# print(dx)\n",
    "a = np.array([np.zeros(rays)])\n",
    "dx = np.append(a, dx, axis = 0)\n",
    "\n",
    "for j in range(rays):\n",
    "    for i in range(1, layers + 1):\n",
    "        dx[i, j] = dx[i, j] + dx[i - 1, j]\n",
    "# print(dx)\n",
    "\n",
    "total_depth = np.sum(dz)\n",
    "dz = np.append(0, dz)\n",
    "depth = np.array([np.zeros(len(dz))])\n",
    "for i in range(1, len(dz)):\n",
    "    depth[0, 0] = total_depth\n",
    "    depth[0, i] = total_depth - (np.sum(dz[0:i + 1])) \n",
    "# print(depth)"
   ]
  },
  {
   "cell_type": "markdown",
   "metadata": {},
   "source": [
    "# Plotting"
   ]
  },
  {
   "cell_type": "code",
   "execution_count": 6,
   "metadata": {},
   "outputs": [
    {
     "data": {
      "image/png": "[encoded data removed]",
      "text/plain": [
       "<Figure size 432x288 with 1 Axes>"
      ]
     },
     "metadata": {
      "needs_background": "light"
     },
     "output_type": "display_data"
    }
   ],
   "source": [
    "fig, ax = plt.subplots()\n",
    "for i in range(rays):\n",
    "    ax.plot(dx[:, i], depth[0, :])\n",
    "ax.set_title(\"Ray Tracing\")\n",
    "for i in range(len(depth)):\n",
    "    plt.hlines(depth[i], 0, np.amax(dx), colors='r')\n",
    "plt.gca().invert_yaxis()\n",
    "plt.show()"
   ]
  }
 ],
 "metadata": {
  "kernelspec": {
   "display_name": "Python 3",
   "language": "python",
   "name": "python3"
  },
  "language_info": {
   "codemirror_mode": {
    "name": "ipython",
    "version": 3
   },
   "file_extension": ".py",
   "mimetype": "text/x-python",
   "name": "python",
   "nbconvert_exporter": "python",
   "pygments_lexer": "ipython3",
   "version": "3.8.3"
  }
 },
 "nbformat": 4,
 "nbformat_minor": 4
}
